{
  "nbformat": 4,
  "nbformat_minor": 0,
  "metadata": {
    "colab": {
      "provenance": [],
      "gpuType": "A100"
    },
    "kernelspec": {
      "name": "python3",
      "display_name": "Python 3"
    },
    "language_info": {
      "name": "python"
    },
    "accelerator": "GPU"
  },
  "cells": [
    {
      "cell_type": "code",
      "execution_count": 2,
      "metadata": {
        "colab": {
          "base_uri": "https://localhost:8080/",
          "height": 92
        },
        "id": "HOhOQ3FeNWoh",
        "outputId": "287bf940-2440-4c6b-c6a0-e2ff7cc81a45"
      },
      "outputs": [
        {
          "output_type": "display_data",
          "data": {
            "text/plain": [
              "<IPython.core.display.HTML object>"
            ],
            "text/html": [
              "\n",
              "     <input type=\"file\" id=\"files-234e8412-644c-403c-a26e-a5a36c03fab3\" name=\"files[]\" multiple disabled\n",
              "        style=\"border:none\" />\n",
              "     <output id=\"result-234e8412-644c-403c-a26e-a5a36c03fab3\">\n",
              "      Upload widget is only available when the cell has been executed in the\n",
              "      current browser session. Please rerun this cell to enable.\n",
              "      </output>\n",
              "      <script>// Copyright 2017 Google LLC\n",
              "//\n",
              "// Licensed under the Apache License, Version 2.0 (the \"License\");\n",
              "// you may not use this file except in compliance with the License.\n",
              "// You may obtain a copy of the License at\n",
              "//\n",
              "//      http://www.apache.org/licenses/LICENSE-2.0\n",
              "//\n",
              "// Unless required by applicable law or agreed to in writing, software\n",
              "// distributed under the License is distributed on an \"AS IS\" BASIS,\n",
              "// WITHOUT WARRANTIES OR CONDITIONS OF ANY KIND, either express or implied.\n",
              "// See the License for the specific language governing permissions and\n",
              "// limitations under the License.\n",
              "\n",
              "/**\n",
              " * @fileoverview Helpers for google.colab Python module.\n",
              " */\n",
              "(function(scope) {\n",
              "function span(text, styleAttributes = {}) {\n",
              "  const element = document.createElement('span');\n",
              "  element.textContent = text;\n",
              "  for (const key of Object.keys(styleAttributes)) {\n",
              "    element.style[key] = styleAttributes[key];\n",
              "  }\n",
              "  return element;\n",
              "}\n",
              "\n",
              "// Max number of bytes which will be uploaded at a time.\n",
              "const MAX_PAYLOAD_SIZE = 100 * 1024;\n",
              "\n",
              "function _uploadFiles(inputId, outputId) {\n",
              "  const steps = uploadFilesStep(inputId, outputId);\n",
              "  const outputElement = document.getElementById(outputId);\n",
              "  // Cache steps on the outputElement to make it available for the next call\n",
              "  // to uploadFilesContinue from Python.\n",
              "  outputElement.steps = steps;\n",
              "\n",
              "  return _uploadFilesContinue(outputId);\n",
              "}\n",
              "\n",
              "// This is roughly an async generator (not supported in the browser yet),\n",
              "// where there are multiple asynchronous steps and the Python side is going\n",
              "// to poll for completion of each step.\n",
              "// This uses a Promise to block the python side on completion of each step,\n",
              "// then passes the result of the previous step as the input to the next step.\n",
              "function _uploadFilesContinue(outputId) {\n",
              "  const outputElement = document.getElementById(outputId);\n",
              "  const steps = outputElement.steps;\n",
              "\n",
              "  const next = steps.next(outputElement.lastPromiseValue);\n",
              "  return Promise.resolve(next.value.promise).then((value) => {\n",
              "    // Cache the last promise value to make it available to the next\n",
              "    // step of the generator.\n",
              "    outputElement.lastPromiseValue = value;\n",
              "    return next.value.response;\n",
              "  });\n",
              "}\n",
              "\n",
              "/**\n",
              " * Generator function which is called between each async step of the upload\n",
              " * process.\n",
              " * @param {string} inputId Element ID of the input file picker element.\n",
              " * @param {string} outputId Element ID of the output display.\n",
              " * @return {!Iterable<!Object>} Iterable of next steps.\n",
              " */\n",
              "function* uploadFilesStep(inputId, outputId) {\n",
              "  const inputElement = document.getElementById(inputId);\n",
              "  inputElement.disabled = false;\n",
              "\n",
              "  const outputElement = document.getElementById(outputId);\n",
              "  outputElement.innerHTML = '';\n",
              "\n",
              "  const pickedPromise = new Promise((resolve) => {\n",
              "    inputElement.addEventListener('change', (e) => {\n",
              "      resolve(e.target.files);\n",
              "    });\n",
              "  });\n",
              "\n",
              "  const cancel = document.createElement('button');\n",
              "  inputElement.parentElement.appendChild(cancel);\n",
              "  cancel.textContent = 'Cancel upload';\n",
              "  const cancelPromise = new Promise((resolve) => {\n",
              "    cancel.onclick = () => {\n",
              "      resolve(null);\n",
              "    };\n",
              "  });\n",
              "\n",
              "  // Wait for the user to pick the files.\n",
              "  const files = yield {\n",
              "    promise: Promise.race([pickedPromise, cancelPromise]),\n",
              "    response: {\n",
              "      action: 'starting',\n",
              "    }\n",
              "  };\n",
              "\n",
              "  cancel.remove();\n",
              "\n",
              "  // Disable the input element since further picks are not allowed.\n",
              "  inputElement.disabled = true;\n",
              "\n",
              "  if (!files) {\n",
              "    return {\n",
              "      response: {\n",
              "        action: 'complete',\n",
              "      }\n",
              "    };\n",
              "  }\n",
              "\n",
              "  for (const file of files) {\n",
              "    const li = document.createElement('li');\n",
              "    li.append(span(file.name, {fontWeight: 'bold'}));\n",
              "    li.append(span(\n",
              "        `(${file.type || 'n/a'}) - ${file.size} bytes, ` +\n",
              "        `last modified: ${\n",
              "            file.lastModifiedDate ? file.lastModifiedDate.toLocaleDateString() :\n",
              "                                    'n/a'} - `));\n",
              "    const percent = span('0% done');\n",
              "    li.appendChild(percent);\n",
              "\n",
              "    outputElement.appendChild(li);\n",
              "\n",
              "    const fileDataPromise = new Promise((resolve) => {\n",
              "      const reader = new FileReader();\n",
              "      reader.onload = (e) => {\n",
              "        resolve(e.target.result);\n",
              "      };\n",
              "      reader.readAsArrayBuffer(file);\n",
              "    });\n",
              "    // Wait for the data to be ready.\n",
              "    let fileData = yield {\n",
              "      promise: fileDataPromise,\n",
              "      response: {\n",
              "        action: 'continue',\n",
              "      }\n",
              "    };\n",
              "\n",
              "    // Use a chunked sending to avoid message size limits. See b/62115660.\n",
              "    let position = 0;\n",
              "    do {\n",
              "      const length = Math.min(fileData.byteLength - position, MAX_PAYLOAD_SIZE);\n",
              "      const chunk = new Uint8Array(fileData, position, length);\n",
              "      position += length;\n",
              "\n",
              "      const base64 = btoa(String.fromCharCode.apply(null, chunk));\n",
              "      yield {\n",
              "        response: {\n",
              "          action: 'append',\n",
              "          file: file.name,\n",
              "          data: base64,\n",
              "        },\n",
              "      };\n",
              "\n",
              "      let percentDone = fileData.byteLength === 0 ?\n",
              "          100 :\n",
              "          Math.round((position / fileData.byteLength) * 100);\n",
              "      percent.textContent = `${percentDone}% done`;\n",
              "\n",
              "    } while (position < fileData.byteLength);\n",
              "  }\n",
              "\n",
              "  // All done.\n",
              "  yield {\n",
              "    response: {\n",
              "      action: 'complete',\n",
              "    }\n",
              "  };\n",
              "}\n",
              "\n",
              "scope.google = scope.google || {};\n",
              "scope.google.colab = scope.google.colab || {};\n",
              "scope.google.colab._files = {\n",
              "  _uploadFiles,\n",
              "  _uploadFilesContinue,\n",
              "};\n",
              "})(self);\n",
              "</script> "
            ]
          },
          "metadata": {}
        },
        {
          "output_type": "stream",
          "name": "stdout",
          "text": [
            "Saving kaggle.json to kaggle.json\n"
          ]
        },
        {
          "output_type": "execute_result",
          "data": {
            "text/plain": [
              "{'kaggle.json': b'{\"username\":\"aminehfar\",\"key\":\"2d4f6af9b6786be61ec95dd320c3d7d2\"}'}"
            ]
          },
          "metadata": {},
          "execution_count": 2
        }
      ],
      "source": [
        "from google.colab import files\n",
        "files.upload()"
      ]
    },
    {
      "cell_type": "code",
      "source": [
        "!mkdir -p ~/.kaggle\n",
        "!cp kaggle.json ~/.kaggle/\n",
        "!chmod 600 ~/.kaggle/kaggle.json"
      ],
      "metadata": {
        "id": "jgV4o6cKWb3L"
      },
      "execution_count": 3,
      "outputs": []
    },
    {
      "cell_type": "code",
      "source": [
        "!kaggle datasets download -d masoudnickparvar/brain-tumor-mri-dataset -p /content\n",
        "!unzip -q /content/brain-tumor-mri-dataset.zip -d /content/brain_tumor"
      ],
      "metadata": {
        "colab": {
          "base_uri": "https://localhost:8080/"
        },
        "id": "WrHxxDZAWry7",
        "outputId": "b78a04be-8109-451e-a425-c6511838f0c2"
      },
      "execution_count": 4,
      "outputs": [
        {
          "output_type": "stream",
          "name": "stdout",
          "text": [
            "Dataset URL: https://www.kaggle.com/datasets/masoudnickparvar/brain-tumor-mri-dataset\n",
            "License(s): CC0-1.0\n",
            "Downloading brain-tumor-mri-dataset.zip to /content\n",
            " 87% 130M/149M [00:00<00:00, 1.36GB/s]\n",
            "100% 149M/149M [00:00<00:00, 1.36GB/s]\n"
          ]
        }
      ]
    },
    {
      "cell_type": "code",
      "source": [
        "import os\n",
        "print(os.listdir(\"/content/brain_tumor\"))"
      ],
      "metadata": {
        "colab": {
          "base_uri": "https://localhost:8080/"
        },
        "id": "KEh4-1HUW6pK",
        "outputId": "39ddfc06-a561-4c98-c7d6-a839dc017920"
      },
      "execution_count": 5,
      "outputs": [
        {
          "output_type": "stream",
          "name": "stdout",
          "text": [
            "['Testing', 'Training']\n"
          ]
        }
      ]
    },
    {
      "cell_type": "code",
      "source": [
        "DATA_DIR = \"/content/brain_tumor\"\n",
        "print(os.listdir(DATA_DIR))        # ['Training', 'Testing']\n",
        "print(os.listdir(f\"{DATA_DIR}/Training\"))  # ['glioma', 'meningioma', 'notumor', 'pituitary']"
      ],
      "metadata": {
        "colab": {
          "base_uri": "https://localhost:8080/"
        },
        "id": "CGkjjJUjXAq1",
        "outputId": "cda2b7c4-d4a0-4f46-fa9b-6f28777f7e1f"
      },
      "execution_count": 6,
      "outputs": [
        {
          "output_type": "stream",
          "name": "stdout",
          "text": [
            "['Testing', 'Training']\n",
            "['glioma', 'meningioma', 'notumor', 'pituitary']\n"
          ]
        }
      ]
    },
    {
      "cell_type": "code",
      "source": [
        "import torch\n",
        "import torch.nn as nn\n",
        "import torch.optim as optim\n",
        "from torchvision import models, transforms, datasets\n",
        "from torch.utils.data import DataLoader\n",
        "from torch.optim.lr_scheduler import ReduceLROnPlateau\n",
        "from collections import Counter\n",
        "import numpy as np\n",
        "import os\n",
        "from tqdm import tqdm\n",
        "from sklearn.model_selection import StratifiedShuffleSplit\n",
        "from torch.utils.data import DataLoader, Subset"
      ],
      "metadata": {
        "id": "k3tx7kPKXo5I"
      },
      "execution_count": 7,
      "outputs": []
    },
    {
      "cell_type": "code",
      "source": [
        "# ============== 0) Device ==============\n",
        "device = torch.device(\"cuda\" if torch.cuda.is_available() else \"cpu\")\n",
        "print(\"Using device:\", device)\n"
      ],
      "metadata": {
        "colab": {
          "base_uri": "https://localhost:8080/"
        },
        "id": "gWZ5Y7TwYFp6",
        "outputId": "4e1020ed-758f-45de-ca18-d84b32606a13"
      },
      "execution_count": 8,
      "outputs": [
        {
          "output_type": "stream",
          "name": "stdout",
          "text": [
            "Using device: cuda\n"
          ]
        }
      ]
    },
    {
      "cell_type": "code",
      "source": [
        "# ============== 1) Transforms (MRI-safe) ==============\n",
        "# Keep ImageNet normalization for ImageNet-pretrained CNNs.\n",
        "IMAGENET_MEAN = [0.485, 0.456, 0.406]\n",
        "IMAGENET_STD  = [0.229, 0.224, 0.225]\n",
        "\n",
        "train_tfms = transforms.Compose([\n",
        "    transforms.Grayscale(num_output_channels=3),   # <- handle grayscale MRI\n",
        "    transforms.Resize(256),\n",
        "    transforms.CenterCrop(224),\n",
        "    transforms.RandomHorizontalFlip(p=0.5),\n",
        "    transforms.RandomRotation(10),\n",
        "    transforms.ToTensor(),\n",
        "    transforms.Normalize(IMAGENET_MEAN, IMAGENET_STD),\n",
        "])\n",
        "\n",
        "eval_tfms = transforms.Compose([\n",
        "    transforms.Grayscale(num_output_channels=3),\n",
        "    transforms.Resize(256),\n",
        "    transforms.CenterCrop(224),\n",
        "    transforms.ToTensor(),\n",
        "    transforms.Normalize(IMAGENET_MEAN, IMAGENET_STD),\n",
        "])"
      ],
      "metadata": {
        "id": "hGQHO9qYYMDt"
      },
      "execution_count": 9,
      "outputs": []
    },
    {
      "cell_type": "code",
      "source": [
        "# Paths\n",
        "train_dir = os.path.join(DATA_DIR, \"Training\")\n",
        "test_dir  = os.path.join(DATA_DIR, \"Testing\")\n",
        "\n",
        "# Load full training dataset\n",
        "full_train = datasets.ImageFolder(train_dir, transform=train_tfms)\n",
        "y = np.array(full_train.targets)\n",
        "\n",
        "\n",
        "# Load full training dataset\n",
        "full_train = datasets.ImageFolder(train_dir, transform=train_tfms)\n",
        "y = np.array(full_train.targets)\n",
        "\n",
        "# Split indices (80/20, stratified by class)\n",
        "sss = StratifiedShuffleSplit(n_splits=1, test_size=0.2, random_state=42)\n",
        "train_idx, val_idx = next(sss.split(np.arange(len(y)), y))\n",
        "\n",
        "# Subset datasets\n",
        "train_ds = Subset(full_train, train_idx)   # with train transforms\n",
        "val_full = datasets.ImageFolder(train_dir, transform=eval_tfms)\n",
        "val_ds   = Subset(val_full, val_idx)       # with eval transforms\n",
        "test_ds  = datasets.ImageFolder(test_dir, transform=eval_tfms)"
      ],
      "metadata": {
        "id": "yAdL0adHXtvC"
      },
      "execution_count": 10,
      "outputs": []
    },
    {
      "cell_type": "code",
      "source": [
        "val_ds"
      ],
      "metadata": {
        "colab": {
          "base_uri": "https://localhost:8080/"
        },
        "id": "ZIsQAWA2bvlC",
        "outputId": "d55c16df-1d41-4647-c9d5-6eefd8639670"
      },
      "execution_count": 11,
      "outputs": [
        {
          "output_type": "execute_result",
          "data": {
            "text/plain": [
              "<torch.utils.data.dataset.Subset at 0x7d0edb803170>"
            ]
          },
          "metadata": {},
          "execution_count": 11
        }
      ]
    },
    {
      "cell_type": "code",
      "source": [
        "DATA_DIR = \"/content/brain_tumor\"  # adjust path\n",
        "\n",
        "train_ds = datasets.ImageFolder(os.path.join(DATA_DIR, \"Training\"), transform=train_tfms)\n",
        "#val_ds   = datasets.ImageFolder(os.path.join(DATA_DIR, \"val\"), transform=eval_tfms)  # if you have val\n",
        "test_ds  = datasets.ImageFolder(os.path.join(DATA_DIR, \"Testing\"), transform=eval_tfms)\n",
        "\n",
        "num_classes = len(train_ds.classes)\n",
        "print(\"Classes:\", train_ds.classes)\n",
        "\n",
        "train_loader = DataLoader(train_ds, batch_size=32, shuffle=True,  num_workers=2, pin_memory=True)\n",
        "val_loader   = DataLoader(val_ds,   batch_size=32, shuffle=False, num_workers=2, pin_memory=True)\n",
        "test_loader  = DataLoader(test_ds,  batch_size=32, shuffle=False, num_workers=2, pin_memory=True)\n"
      ],
      "metadata": {
        "colab": {
          "base_uri": "https://localhost:8080/"
        },
        "id": "3CHaj-pcbagv",
        "outputId": "28fa0715-8bd9-4086-c517-5001bd9583e9"
      },
      "execution_count": 12,
      "outputs": [
        {
          "output_type": "stream",
          "name": "stdout",
          "text": [
            "Classes: ['glioma', 'meningioma', 'notumor', 'pituitary']\n"
          ]
        }
      ]
    },
    {
      "cell_type": "code",
      "source": [
        "# ============== 3) Model: ResNet-50 (fine-tune) ==============\n",
        "model = models.resnet50(pretrained=True)\n",
        "\n",
        "# Replace classifier head\n",
        "in_features = model.fc.in_features\n",
        "model.fc = nn.Sequential(\n",
        "    nn.Dropout(p=0.2),\n",
        "    nn.Linear(in_features, num_classes)\n",
        ")\n",
        "model = model.to(device)\n"
      ],
      "metadata": {
        "colab": {
          "base_uri": "https://localhost:8080/"
        },
        "id": "XMX8NDI4cIfa",
        "outputId": "18d1023b-a582-4393-d694-5feed01e8839"
      },
      "execution_count": 15,
      "outputs": [
        {
          "output_type": "stream",
          "name": "stderr",
          "text": [
            "/usr/local/lib/python3.12/dist-packages/torchvision/models/_utils.py:208: UserWarning: The parameter 'pretrained' is deprecated since 0.13 and may be removed in the future, please use 'weights' instead.\n",
            "  warnings.warn(\n",
            "/usr/local/lib/python3.12/dist-packages/torchvision/models/_utils.py:223: UserWarning: Arguments other than a weight enum or `None` for 'weights' are deprecated since 0.13 and may be removed in the future. The current behavior is equivalent to passing `weights=ResNet50_Weights.IMAGENET1K_V1`. You can also use `weights=ResNet50_Weights.DEFAULT` to get the most up-to-date weights.\n",
            "  warnings.warn(msg)\n"
          ]
        },
        {
          "output_type": "stream",
          "name": "stdout",
          "text": [
            "Downloading: \"https://download.pytorch.org/models/resnet50-0676ba61.pth\" to /root/.cache/torch/hub/checkpoints/resnet50-0676ba61.pth\n"
          ]
        },
        {
          "output_type": "stream",
          "name": "stderr",
          "text": [
            "100%|██████████| 97.8M/97.8M [00:00<00:00, 199MB/s]\n"
          ]
        }
      ]
    },
    {
      "cell_type": "code",
      "source": [
        "# ============== 4) Loss (with optional class weights) ==============\n",
        "# If your dataset is imbalanced, compute class weights from train targets:\n",
        "try:\n",
        "    counts = Counter(train_ds.targets)\n",
        "    class_weights = torch.tensor([1.0 / counts[i] for i in range(num_classes)], dtype=torch.float32, device=device)\n",
        "    class_weights = class_weights * (num_classes / class_weights.sum())  # normalize a bit\n",
        "    print(\"Class counts:\", counts)\n",
        "    print(\"Class weights:\", class_weights.cpu().numpy())\n",
        "    criterion = nn.CrossEntropyLoss(weight=class_weights, label_smoothing=0.05)\n",
        "except Exception:\n",
        "    criterion = nn.CrossEntropyLoss(label_smoothing=0.05)"
      ],
      "metadata": {
        "colab": {
          "base_uri": "https://localhost:8080/"
        },
        "id": "NGsvfW22cOqK",
        "outputId": "f4338ba3-b133-4657-f261-9da85a692aa9"
      },
      "execution_count": 13,
      "outputs": [
        {
          "output_type": "stream",
          "name": "stdout",
          "text": [
            "Class counts: Counter({2: 1595, 3: 1457, 1: 1339, 0: 1321})\n",
            "Class weights: [1.0748563  1.0604072  0.89021015 0.97452646]\n"
          ]
        }
      ]
    },
    {
      "cell_type": "code",
      "source": [
        "# ============== 5) Optimizers & Schedulers ==============\n",
        "# Phase A: train head only (warmup)\n",
        "for p in model.parameters():\n",
        "    p.requires_grad = False\n",
        "for p in model.fc.parameters():\n",
        "    p.requires_grad = True\n",
        "\n",
        "optimizer = optim.AdamW(model.fc.parameters(), lr=1e-3, weight_decay=1e-4)\n",
        "scheduler = ReduceLROnPlateau(optimizer, mode=\"min\", factor=0.5, patience=2)\n"
      ],
      "metadata": {
        "id": "ZLy14_NycKqq"
      },
      "execution_count": 16,
      "outputs": []
    },
    {
      "cell_type": "code",
      "source": [],
      "metadata": {
        "id": "MWQFLEY3cwKD"
      },
      "execution_count": null,
      "outputs": []
    },
    {
      "cell_type": "code",
      "source": [
        "# ============== 6) Training helpers ==============\n",
        "scaler = torch.cuda.amp.GradScaler(enabled=(device.type == \"cuda\"))\n",
        "\n",
        "def run_epoch(model, loader, train_mode=True):\n",
        "    if train_mode:\n",
        "        model.train()\n",
        "    else:\n",
        "        model.eval()\n",
        "\n",
        "    total_loss, total_correct, total = 0.0, 0, 0\n",
        "    pbar = tqdm(loader, leave=False)\n",
        "\n",
        "    for x, y in pbar:\n",
        "        x, y = x.to(device, non_blocking=True), y.to(device, non_blocking=True)\n",
        "\n",
        "        with torch.cuda.amp.autocast(enabled=(device.type == \"cuda\")):\n",
        "            out = model(x)\n",
        "            loss = criterion(out, y)\n",
        "\n",
        "        if train_mode:\n",
        "            optimizer.zero_grad(set_to_none=True)\n",
        "            scaler.scale(loss).backward()\n",
        "            scaler.step(optimizer)\n",
        "            scaler.update()\n",
        "\n",
        "        preds = out.argmax(1)\n",
        "        total_loss += loss.item() * x.size(0)\n",
        "        total_correct += (preds == y).sum().item()\n",
        "        total += x.size(0)\n",
        "\n",
        "        pbar.set_postfix(loss=f\"{total_loss/total:.4f}\", acc=f\"{total_correct/total:.4f}\")\n",
        "\n",
        "    return total_loss / total, total_correct / total\n",
        "\n",
        "def evaluate_model(model, loader):\n",
        "    model.eval()\n",
        "    correct, total = 0, 0\n",
        "    with torch.no_grad():\n",
        "        for x, y in loader:\n",
        "            x, y = x.to(device), y.to(device)\n",
        "            out = model(x)\n",
        "            preds = out.argmax(1)\n",
        "            correct += (preds == y).sum().item()\n",
        "            total += y.size(0)\n",
        "    return correct / total"
      ],
      "metadata": {
        "id": "k7UiyTyecqH5",
        "outputId": "3a590fee-2d9d-45c1-a20b-acaee5e6a0e3",
        "colab": {
          "base_uri": "https://localhost:8080/"
        }
      },
      "execution_count": 17,
      "outputs": [
        {
          "output_type": "stream",
          "name": "stderr",
          "text": [
            "/tmp/ipython-input-2468029751.py:2: FutureWarning: `torch.cuda.amp.GradScaler(args...)` is deprecated. Please use `torch.amp.GradScaler('cuda', args...)` instead.\n",
            "  scaler = torch.cuda.amp.GradScaler(enabled=(device.type == \"cuda\"))\n"
          ]
        }
      ]
    },
    {
      "cell_type": "code",
      "source": [
        "# ============== 7) Training schedule ==============\n",
        "EPOCHS_HEAD   = 3   # head-only warmup\n",
        "EPOCHS_FINET  = 12  # fine-tune phase (last block + head)\n",
        "PATIENCE      = 5   # early stopping on val loss\n",
        "best_val_loss = float(\"inf\")\n",
        "epochs_no_improve = 0\n",
        "best_path = \"best_resnet50_mri.pt\"\n",
        "\n",
        "print(\"\\n=== Phase A: Train classifier head only ===\")\n",
        "for epoch in range(1, EPOCHS_HEAD+1):\n",
        "    train_loss, train_acc = run_epoch(model, train_loader, train_mode=True)\n",
        "    val_loss,   val_acc   = run_epoch(model, val_loader,   train_mode=False)\n",
        "    scheduler.step(val_loss)\n",
        "\n",
        "    print(f\"[Head] Epoch {epoch}/{EPOCHS_HEAD} | \"\n",
        "          f\"train_loss={train_loss:.4f} acc={train_acc:.4f} | \"\n",
        "          f\"val_loss={val_loss:.4f} acc={val_acc:.4f}\")\n",
        "\n",
        "    if val_loss < best_val_loss:\n",
        "        best_val_loss = val_loss\n",
        "        epochs_no_improve = 0\n",
        "        torch.save(model.state_dict(), best_path)\n",
        "    else:\n",
        "        epochs_no_improve += 1\n",
        "        if epochs_no_improve >= PATIENCE:\n",
        "            print(\"Early stopping (head phase).\")\n",
        "            break\n",
        "\n",
        "# Unfreeze last block (layer4) for fine-tuning with lower LR\n",
        "for p in model.layer4.parameters():\n",
        "    p.requires_grad = True\n",
        "for p in model.fc.parameters():\n",
        "    p.requires_grad = True\n",
        "\n",
        "optimizer = optim.AdamW([\n",
        "    {\"params\": model.fc.parameters(),     \"lr\": 1e-3},\n",
        "    {\"params\": model.layer4.parameters(), \"lr\": 1e-4},\n",
        "], weight_decay=1e-4)\n",
        "scheduler = ReduceLROnPlateau(optimizer, mode=\"min\", factor=0.5, patience=2)\n",
        "\n",
        "print(\"\\n=== Phase B: Fine-tune layer4 + head ===\")\n",
        "epochs_no_improve = 0\n",
        "for epoch in range(1, EPOCHS_FINET+1):\n",
        "    train_loss, train_acc = run_epoch(model, train_loader, train_mode=True)\n",
        "    val_loss,   val_acc   = run_epoch(model, val_loader,   train_mode=False)\n",
        "    scheduler.step(val_loss)\n",
        "\n",
        "    print(f\"[FT] Epoch {epoch}/{EPOCHS_FINET} | \"\n",
        "          f\"train_loss={train_loss:.4f} acc={train_acc:.4f} | \"\n",
        "          f\"val_loss={val_loss:.4f} acc={val_acc:.4f}\")\n",
        "\n",
        "    if val_loss < best_val_loss:\n",
        "        best_val_loss = val_loss\n",
        "        epochs_no_improve = 0\n",
        "        torch.save(model.state_dict(), best_path)\n",
        "    else:\n",
        "        epochs_no_improve += 1\n",
        "        if epochs_no_improve >= PATIENCE:\n",
        "            print(\"Early stopping (fine-tune phase).\")\n",
        "            break\n"
      ],
      "metadata": {
        "colab": {
          "base_uri": "https://localhost:8080/"
        },
        "id": "aKNERzuadKBL",
        "outputId": "c6ca5c65-273c-4eec-b2cb-7a17394dc058"
      },
      "execution_count": 18,
      "outputs": [
        {
          "output_type": "stream",
          "name": "stdout",
          "text": [
            "\n",
            "=== Phase A: Train classifier head only ===\n"
          ]
        },
        {
          "output_type": "stream",
          "name": "stderr",
          "text": [
            "\r  0%|          | 0/179 [00:00<?, ?it/s]/tmp/ipython-input-2468029751.py:16: FutureWarning: `torch.cuda.amp.autocast(args...)` is deprecated. Please use `torch.amp.autocast('cuda', args...)` instead.\n",
            "  with torch.cuda.amp.autocast(enabled=(device.type == \"cuda\")):\n"
          ]
        },
        {
          "output_type": "stream",
          "name": "stdout",
          "text": [
            "[Head] Epoch 1/3 | train_loss=0.7589 acc=0.7504 | val_loss=0.5972 acc=0.8513\n"
          ]
        },
        {
          "output_type": "stream",
          "name": "stderr",
          "text": []
        },
        {
          "output_type": "stream",
          "name": "stdout",
          "text": [
            "[Head] Epoch 2/3 | train_loss=0.5849 acc=0.8379 | val_loss=0.5102 acc=0.8740\n"
          ]
        },
        {
          "output_type": "stream",
          "name": "stderr",
          "text": []
        },
        {
          "output_type": "stream",
          "name": "stdout",
          "text": [
            "[Head] Epoch 3/3 | train_loss=0.5334 acc=0.8676 | val_loss=0.5080 acc=0.8749\n",
            "\n",
            "=== Phase B: Fine-tune layer4 + head ===\n"
          ]
        },
        {
          "output_type": "stream",
          "name": "stderr",
          "text": []
        },
        {
          "output_type": "stream",
          "name": "stdout",
          "text": [
            "[FT] Epoch 1/12 | train_loss=0.4471 acc=0.9158 | val_loss=0.3103 acc=0.9703\n"
          ]
        },
        {
          "output_type": "stream",
          "name": "stderr",
          "text": []
        },
        {
          "output_type": "stream",
          "name": "stdout",
          "text": [
            "[FT] Epoch 2/12 | train_loss=0.3078 acc=0.9723 | val_loss=0.2642 acc=0.9808\n"
          ]
        },
        {
          "output_type": "stream",
          "name": "stderr",
          "text": []
        },
        {
          "output_type": "stream",
          "name": "stdout",
          "text": [
            "[FT] Epoch 3/12 | train_loss=0.2789 acc=0.9811 | val_loss=0.2488 acc=0.9939\n"
          ]
        },
        {
          "output_type": "stream",
          "name": "stderr",
          "text": []
        },
        {
          "output_type": "stream",
          "name": "stdout",
          "text": [
            "[FT] Epoch 4/12 | train_loss=0.2658 acc=0.9860 | val_loss=0.2531 acc=0.9921\n"
          ]
        },
        {
          "output_type": "stream",
          "name": "stderr",
          "text": []
        },
        {
          "output_type": "stream",
          "name": "stdout",
          "text": [
            "[FT] Epoch 5/12 | train_loss=0.2439 acc=0.9940 | val_loss=0.2248 acc=0.9983\n"
          ]
        },
        {
          "output_type": "stream",
          "name": "stderr",
          "text": []
        },
        {
          "output_type": "stream",
          "name": "stdout",
          "text": [
            "[FT] Epoch 6/12 | train_loss=0.2446 acc=0.9933 | val_loss=0.2192 acc=0.9991\n"
          ]
        },
        {
          "output_type": "stream",
          "name": "stderr",
          "text": []
        },
        {
          "output_type": "stream",
          "name": "stdout",
          "text": [
            "[FT] Epoch 7/12 | train_loss=0.2327 acc=0.9968 | val_loss=0.2208 acc=0.9965\n"
          ]
        },
        {
          "output_type": "stream",
          "name": "stderr",
          "text": []
        },
        {
          "output_type": "stream",
          "name": "stdout",
          "text": [
            "[FT] Epoch 8/12 | train_loss=0.2327 acc=0.9961 | val_loss=0.2207 acc=0.9983\n"
          ]
        },
        {
          "output_type": "stream",
          "name": "stderr",
          "text": []
        },
        {
          "output_type": "stream",
          "name": "stdout",
          "text": [
            "[FT] Epoch 9/12 | train_loss=0.2274 acc=0.9961 | val_loss=0.2189 acc=0.9991\n"
          ]
        },
        {
          "output_type": "stream",
          "name": "stderr",
          "text": []
        },
        {
          "output_type": "stream",
          "name": "stdout",
          "text": [
            "[FT] Epoch 10/12 | train_loss=0.2259 acc=0.9974 | val_loss=0.2258 acc=0.9983\n"
          ]
        },
        {
          "output_type": "stream",
          "name": "stderr",
          "text": []
        },
        {
          "output_type": "stream",
          "name": "stdout",
          "text": [
            "[FT] Epoch 11/12 | train_loss=0.2259 acc=0.9965 | val_loss=0.2173 acc=0.9974\n"
          ]
        },
        {
          "output_type": "stream",
          "name": "stderr",
          "text": [
            "                                                                        "
          ]
        },
        {
          "output_type": "stream",
          "name": "stdout",
          "text": [
            "[FT] Epoch 12/12 | train_loss=0.2225 acc=0.9972 | val_loss=0.2174 acc=0.9991\n"
          ]
        },
        {
          "output_type": "stream",
          "name": "stderr",
          "text": [
            "\r"
          ]
        }
      ]
    },
    {
      "cell_type": "code",
      "source": [
        "# ============== 8) Load best & Test ==============\n",
        "model.load_state_dict(torch.load(best_path, map_location=device))\n",
        "test_acc = evaluate_model(model, test_loader)\n",
        "print(f\"\\nBest checkpoint test accuracy: {test_acc:.4f}\")\n"
      ],
      "metadata": {
        "id": "hpclY-ModTl0",
        "colab": {
          "base_uri": "https://localhost:8080/"
        },
        "outputId": "2157f43b-f310-4d45-9012-fd12a53bc6b1"
      },
      "execution_count": 19,
      "outputs": [
        {
          "output_type": "stream",
          "name": "stdout",
          "text": [
            "\n",
            "Best checkpoint test accuracy: 0.9931\n"
          ]
        }
      ]
    }
  ]
}